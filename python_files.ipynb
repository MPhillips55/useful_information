{
 "cells": [
  {
   "cell_type": "markdown",
   "metadata": {},
   "source": [
    "# Working with Files\n"
   ]
  },
  {
   "cell_type": "markdown",
   "metadata": {},
   "source": [
    "Getting data into and out of files in Python feels a lot like using the low-level methods of C, but it has all the ease of Python layered on top.\n",
    "\n",
    "For example, to open a file for writing use the builtin (and very C-like) open() function. But then write the contents of a list with a single call. The open() function returns an open file object and closing the file is done by calling the close() method of that object."
   ]
  },
  {
   "cell_type": "markdown",
   "metadata": {},
   "source": [
    "The writelines() and readlines() methods in Python do not handle EOL characters on your behalf, making the naming a bit confusing. In this example, note the inclusion of the \\n character in the elements of the list."
   ]
  },
  {
   "cell_type": "code",
   "execution_count": 11,
   "metadata": {
    "collapsed": true
   },
   "outputs": [],
   "source": [
    "colors = ['red\\n', 'yellow\\n', 'blue\\n']\n",
    "f = open('colors.txt', 'w')\n",
    "f.writelines(colors)\n",
    "f.close()"
   ]
  },
  {
   "cell_type": "code",
   "execution_count": 12,
   "metadata": {
    "collapsed": false
   },
   "outputs": [
    {
     "name": "stdout",
     "output_type": "stream",
     "text": [
      "red\n",
      "\n",
      "yellow\n",
      "\n",
      "blue\n",
      "\n"
     ]
    }
   ],
   "source": [
    "f = open('colors.txt', 'r')\n",
    "for line in f:\n",
    "    print(line)\n",
    "f.close()"
   ]
  },
  {
   "cell_type": "markdown",
   "metadata": {},
   "source": [
    "Mode\n",
    "\n",
    "\n",
    "Including a mode argument is optional because a default value of ‘r’ will be assumed if it is omitted. The ‘r’ value stands for read mode, which is just one of many. \n",
    "\n",
    "The modes are: \n",
    "\n",
    "    ‘r’ – Read mode which is used when the file is only being read \n",
    "    ‘w’ – Write mode which is used to edit and write new information to the file (any existing files with the same name will be erased when this mode is activated) \n",
    "    ‘a’ – Appending mode, which is used to add new data to the end of the file; that is new information is automatically amended to the end \n",
    "    ‘r+’ – Special read and write mode, which is used to handle both actions when working with a file \n"
   ]
  },
  {
   "cell_type": "code",
   "execution_count": 21,
   "metadata": {
    "collapsed": false
   },
   "outputs": [],
   "source": [
    "f = open('testfile2.txt','w') \n",
    "f.write('Hello World\\n')\n",
    "f.write('test line2\\n')\n",
    "f.close()"
   ]
  },
  {
   "cell_type": "code",
   "execution_count": 23,
   "metadata": {
    "collapsed": false
   },
   "outputs": [
    {
     "name": "stdout",
     "output_type": "stream",
     "text": [
      "Hello World\n",
      "\n",
      "test line2\n",
      "\n"
     ]
    }
   ],
   "source": [
    "f = open('testfile2.txt','r') \n",
    "for line in f:\n",
    "    print(line)\n",
    "f.close()"
   ]
  },
  {
   "cell_type": "code",
   "execution_count": 27,
   "metadata": {
    "collapsed": false
   },
   "outputs": [
    {
     "name": "stdout",
     "output_type": "stream",
     "text": [
      "Hello World\n",
      "\n",
      "test line2\n",
      "\n",
      "line 3line 3\n",
      "\n",
      "line 3\n",
      "\n"
     ]
    }
   ],
   "source": [
    "with open(\"testfile2.txt\",'r+') as f:\n",
    "    f.write('line 3\\n')\n",
    "    for line in f:\n",
    "        print(line)"
   ]
  },
  {
   "cell_type": "code",
   "execution_count": null,
   "metadata": {
    "collapsed": true
   },
   "outputs": [],
   "source": [
    "\n",
    "\n",
    "amazon_dict = {}\n",
    "reviews_dict = []\n",
    "categ_dict = []\n",
    "temp_dict = {}\n",
    "with open('amazon-meta.txt', encoding='utf8') as f:\n",
    "    even_check = 0\n",
    "    for i in f:\n",
    "        #print(i)\n",
    "        line = i.split()\n",
    "        if line:  \n",
    "            #print(line)\n",
    "            if line[0] == 'Id:': \n",
    "                temp_dict = {}\n",
    "                iden = ''.join(line)\n",
    "                #amazon_dict[iden] = []\n",
    "            elif line[0] == 'ASIN:':\n",
    "                #temp_dict = {}\n",
    "                temp_dict[line[0]] = ''.join(line[1:])\n",
    "                #print(temp_dict)\n",
    "                #amazon_dict[iden].append(temp_dict)\n",
    "                #print(amazon_dict)\n",
    "            elif line[0] == 'title:':\n",
    "                #temp_dict = {}\n",
    "                temp_dict[line[0]] = ' '.join(line[1:])\n",
    "                #amazon_dict[iden].append(temp_dict)\n",
    "            elif line[0] == 'group:':\n",
    "                #temp_dict = {}\n",
    "                temp_dict[line[0]] = ''.join(line[1:])\n",
    "                #amazon_dict[iden].append(temp_dict)\n",
    "            elif line[0] == 'salesrank:':\n",
    "                #temp_dict = {}\n",
    "                temp_dict[line[0]] = ''.join(line[1:])\n",
    "                #amazon_dict[iden].append(temp_dict)\n",
    "            elif line[0] == 'similar:':\n",
    "                #temp_dict = {}\n",
    "                temp_dict[line[0]] = ' '.join(line[3:])\n",
    "                #amazon_dict[iden].append(temp_dict)\n",
    "            elif line[0] == 'categories:':\n",
    "                b = 0\n",
    "                number_cat = int(''.join(line[1:]))\n",
    "                categ_list = {}\n",
    "                while b < number_cat:\n",
    "                    line3 = f.readline().split('|')\n",
    "                    c = 0\n",
    "\n",
    "                    \n",
    "                    while c < len(line3):\n",
    "\n",
    "                        temp_cat = line3[c].split('[')\n",
    "\n",
    "                        try:\n",
    "                            categ_list['id'] = iden\n",
    "                            #print(temp_cat[0])\n",
    "                            categ_list[temp_cat[0]] = int((''.join(temp_cat[1:])).replace(']',''))\n",
    "                    \n",
    "                        except:\n",
    "                            pass\n",
    "\n",
    "                        c += 1\n",
    "                               \n",
    "                    b += 1\n",
    "                \n",
    "                if even_check%10 == 0:\n",
    "                    \n",
    "                    if 'Books' in categ_list:\n",
    "                        even_check +=1\n",
    "                        #print(even_check)\n",
    "                        temp_dict[line[0]] = int(''.join(line[1:]))\n",
    "\n",
    "                        categ_dict.append(categ_list)\n",
    "                        \n",
    "                else:\n",
    "                    #print(even_check)\n",
    "                    even_check +=1\n",
    "                    pass\n",
    "\n",
    "            elif line[0] == 'reviews:':\n",
    "                a = 0\n",
    "                temp_list = []\n",
    "                #review_list = {}\n",
    "                number_rev = int((''.join(line[2:3])))\n",
    "                while a < number_rev:\n",
    "                    review_list = {}\n",
    "                    line2 = f.readline().strip()\n",
    "                    line2 = line2.split()\n",
    "                    try:\n",
    "                        review_list[line2[1]] = (''.join([line2[2]]))\n",
    "                        review_list['id'] = iden\n",
    "                        review_list[line2[3]] = int(''.join([line2[4]]))\n",
    "                        review_list[line2[5]] = int(''.join([line2[6]]))\n",
    "                        review_list[line2[7]] = int(''.join([line2[8]]))\n",
    "                        a += 1\n",
    "                        reviews_dict.append(review_list)\n",
    "                    except:\n",
    "                        pass\n",
    "           \n",
    "\n",
    "            else:\n",
    "                pass\n",
    "            try:\n",
    "                amazon_dict[iden] = temp_dict\n",
    "            except:\n",
    "                pass\n",
    "\n",
    "        else:\n",
    "            pass\n",
    "\n"
   ]
  },
  {
   "cell_type": "code",
   "execution_count": null,
   "metadata": {
    "collapsed": true
   },
   "outputs": [],
   "source": []
  },
  {
   "cell_type": "code",
   "execution_count": null,
   "metadata": {
    "collapsed": true
   },
   "outputs": [],
   "source": []
  },
  {
   "cell_type": "code",
   "execution_count": null,
   "metadata": {
    "collapsed": true
   },
   "outputs": [],
   "source": []
  },
  {
   "cell_type": "code",
   "execution_count": null,
   "metadata": {
    "collapsed": true
   },
   "outputs": [],
   "source": []
  },
  {
   "cell_type": "code",
   "execution_count": null,
   "metadata": {
    "collapsed": true
   },
   "outputs": [],
   "source": []
  },
  {
   "cell_type": "code",
   "execution_count": null,
   "metadata": {
    "collapsed": true
   },
   "outputs": [],
   "source": []
  },
  {
   "cell_type": "code",
   "execution_count": null,
   "metadata": {
    "collapsed": true
   },
   "outputs": [],
   "source": []
  },
  {
   "cell_type": "code",
   "execution_count": null,
   "metadata": {
    "collapsed": true
   },
   "outputs": [],
   "source": []
  },
  {
   "cell_type": "code",
   "execution_count": null,
   "metadata": {
    "collapsed": true
   },
   "outputs": [],
   "source": []
  },
  {
   "cell_type": "code",
   "execution_count": null,
   "metadata": {
    "collapsed": true
   },
   "outputs": [],
   "source": []
  },
  {
   "cell_type": "code",
   "execution_count": null,
   "metadata": {
    "collapsed": true
   },
   "outputs": [],
   "source": []
  }
 ],
 "metadata": {
  "anaconda-cloud": {},
  "kernelspec": {
   "display_name": "Python [conda env:py3DataScience]",
   "language": "python",
   "name": "conda-env-py3DataScience-py"
  },
  "language_info": {
   "codemirror_mode": {
    "name": "ipython",
    "version": 3
   },
   "file_extension": ".py",
   "mimetype": "text/x-python",
   "name": "python",
   "nbconvert_exporter": "python",
   "pygments_lexer": "ipython3",
   "version": "3.5.3"
  }
 },
 "nbformat": 4,
 "nbformat_minor": 1
}
